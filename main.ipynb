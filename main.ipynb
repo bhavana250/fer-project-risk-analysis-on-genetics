{
 "cells": [
  {
   "cell_type": "markdown",
   "metadata": {
    "collapsed": true
   },
   "source": [
    "# importing all the needed libary"
   ]
  },
  {
   "cell_type": "code",
   "execution_count": 2,
   "metadata": {},
   "outputs": [],
   "source": [
    "import pandas as pd \n",
    "import numpy as np \n",
    "import matplotlib.pyplot as plt"
   ]
  },
  {
   "cell_type": "code",
   "execution_count": 3,
   "metadata": {},
   "outputs": [],
   "source": [
    "dataset = pd.read_csv(\"GEO.csv\")"
   ]
  },
  {
   "cell_type": "code",
   "execution_count": 4,
   "metadata": {},
   "outputs": [
    {
     "data": {
      "text/plain": [
       "Index(['diseaseId', 'geneId', 'geneSymbol', 'DSI', 'DPI', 'diseaseName',\n",
       "       'diseaseType', 'diseaseClass', 'diseaseSemanticType', 'score', 'EI',\n",
       "       'Gene_Description', 'PsychiatricDisorder', 'diseaseClassNameMSH',\n",
       "       'doClassId', 'doClassName', 'umlsSemanticTypeId',\n",
       "       'umlsSemanticTypeName', 'HGNC.ID', 'Approved.name', 'Ensembl.gene.ID'],\n",
       "      dtype='object')"
      ]
     },
     "execution_count": 4,
     "metadata": {},
     "output_type": "execute_result"
    }
   ],
   "source": [
    "dataset.columns"
   ]
  },
  {
   "cell_type": "markdown",
   "metadata": {
    "collapsed": true
   },
   "source": [
    "# dropping all the unwanted coloumns"
   ]
  },
  {
   "cell_type": "code",
   "execution_count": 4,
   "metadata": {},
   "outputs": [],
   "source": [
    "dataset=dataset.drop(['diseaseId', 'geneId', 'geneSymbol', 'HGNC.ID', 'Approved.name', 'Ensembl.gene.ID','umlsSemanticTypeName','umlsSemanticTypeId'], axis = 1)"
   ]
  },
  {
   "cell_type": "code",
   "execution_count": 5,
   "metadata": {},
   "outputs": [],
   "source": [
    "dataset=dataset.drop(['doClassId','doClassName'], axis = 1)"
   ]
  },
  {
   "cell_type": "code",
   "execution_count": 6,
   "metadata": {},
   "outputs": [
    {
     "data": {
      "text/plain": [
       "Index(['DSI', 'DPI', 'diseaseName', 'diseaseType', 'diseaseClass',\n",
       "       'diseaseSemanticType', 'score', 'EI', 'Gene_Description',\n",
       "       'PsychiatricDisorder', 'diseaseClassNameMSH'],\n",
       "      dtype='object')"
      ]
     },
     "execution_count": 6,
     "metadata": {},
     "output_type": "execute_result"
    }
   ],
   "source": [
    "dataset.columns"
   ]
  },
  {
   "cell_type": "code",
   "execution_count": 7,
   "metadata": {},
   "outputs": [
    {
     "data": {
      "text/plain": [
       "DSI                    float64\n",
       "DPI                    float64\n",
       "diseaseName             object\n",
       "diseaseType             object\n",
       "diseaseClass            object\n",
       "diseaseSemanticType     object\n",
       "score                  float64\n",
       "EI                     float64\n",
       "Gene_Description        object\n",
       "PsychiatricDisorder     object\n",
       "diseaseClassNameMSH     object\n",
       "dtype: object"
      ]
     },
     "execution_count": 7,
     "metadata": {},
     "output_type": "execute_result"
    }
   ],
   "source": [
    "dataset.dtypes"
   ]
  },
  {
   "cell_type": "markdown",
   "metadata": {
    "collapsed": true
   },
   "source": [
    "# finding all the types of Category present present in the Target variable"
   ]
  },
  {
   "cell_type": "code",
   "execution_count": 8,
   "metadata": {},
   "outputs": [
    {
     "data": {
      "text/plain": [
       "DEPRESSIVE DISORDERS                                    2220\n",
       "SCHIZOPHRENIA SPECTRUM AND OTHER PSYCHOTIC DISORDERS    1791\n",
       "BIPOLAR DISORDERS AND RELATED DISORDERS                  706\n",
       "ALCOHOL USE DISORDERS                                    532\n",
       "CANNABIS USE DISORDERS                                    73\n",
       "COCAINE USE DISORDERS                                     73\n",
       "Name: PsychiatricDisorder, dtype: int64"
      ]
     },
     "execution_count": 8,
     "metadata": {},
     "output_type": "execute_result"
    }
   ],
   "source": [
    "dataset['PsychiatricDisorder'].value_counts()"
   ]
  },
  {
   "cell_type": "markdown",
   "metadata": {
    "collapsed": true
   },
   "source": [
    "#Changing all the Object type columns to Category types and then using Cat.coding, changing all the str type data to interger \n",
    "#type for prediction"
   ]
  },
  {
   "cell_type": "code",
   "execution_count": 9,
   "metadata": {},
   "outputs": [],
   "source": [
    "dataset['diseaseName'] = dataset['diseaseName'].astype('category')\n",
    "dataset['diseaseType'] = dataset['diseaseType'].astype('category')\n",
    "dataset['diseaseClass'] = dataset['diseaseClass'].astype('category')\n",
    "dataset['diseaseSemanticType'] = dataset['diseaseSemanticType'].astype('category')\n",
    "dataset['Gene_Description'] = dataset['Gene_Description'].astype('category')\n",
    "dataset['diseaseClassNameMSH'] = dataset['diseaseClassNameMSH'].astype('category')\n",
    "dataset['PsychiatricDisorder'] = dataset['PsychiatricDisorder'].astype('category')"
   ]
  },
  {
   "cell_type": "code",
   "execution_count": 10,
   "metadata": {},
   "outputs": [
    {
     "data": {
      "text/plain": [
       "DSI                     float64\n",
       "DPI                     float64\n",
       "diseaseName            category\n",
       "diseaseType            category\n",
       "diseaseClass           category\n",
       "diseaseSemanticType    category\n",
       "score                   float64\n",
       "EI                      float64\n",
       "Gene_Description       category\n",
       "PsychiatricDisorder    category\n",
       "diseaseClassNameMSH    category\n",
       "dtype: object"
      ]
     },
     "execution_count": 10,
     "metadata": {},
     "output_type": "execute_result"
    }
   ],
   "source": [
    "dataset.dtypes"
   ]
  },
  {
   "cell_type": "code",
   "execution_count": 11,
   "metadata": {},
   "outputs": [],
   "source": [
    "dataset['diseaseName'] = dataset['diseaseName'].cat.codes\n",
    "dataset['diseaseType'] = dataset['diseaseType'].cat.codes\n",
    "dataset['diseaseClass'] = dataset['diseaseClass'].cat.codes\n",
    "dataset['diseaseSemanticType'] = dataset['diseaseSemanticType'].cat.codes\n",
    "dataset['Gene_Description'] = dataset['Gene_Description'].cat.codes\n",
    "dataset['diseaseClassNameMSH'] = dataset['diseaseClassNameMSH'].cat.codes"
   ]
  },
  {
   "cell_type": "code",
   "execution_count": 12,
   "metadata": {},
   "outputs": [
    {
     "data": {
      "text/plain": [
       "DSI                     float64\n",
       "DPI                     float64\n",
       "diseaseName                int8\n",
       "diseaseType                int8\n",
       "diseaseClass               int8\n",
       "diseaseSemanticType        int8\n",
       "score                   float64\n",
       "EI                      float64\n",
       "Gene_Description           int8\n",
       "PsychiatricDisorder    category\n",
       "diseaseClassNameMSH        int8\n",
       "dtype: object"
      ]
     },
     "execution_count": 12,
     "metadata": {},
     "output_type": "execute_result"
    }
   ],
   "source": [
    "dataset.dtypes"
   ]
  },
  {
   "cell_type": "markdown",
   "metadata": {
    "collapsed": true
   },
   "source": [
    "#Defining the Label and Attributes"
   ]
  },
  {
   "cell_type": "code",
   "execution_count": 13,
   "metadata": {},
   "outputs": [],
   "source": [
    "X = dataset.drop('PsychiatricDisorder', axis=1)\n",
    "y = dataset['PsychiatricDisorder']"
   ]
  },
  {
   "cell_type": "markdown",
   "metadata": {
    "collapsed": true
   },
   "source": [
    "#splitting the dataset for training and testing"
   ]
  },
  {
   "cell_type": "code",
   "execution_count": 14,
   "metadata": {},
   "outputs": [],
   "source": [
    "from sklearn.model_selection import train_test_split\n",
    "\n",
    "X_train, X_test, y_train, y_test = train_test_split(X, y, test_size=0.75, random_state=0)"
   ]
  },
  {
   "cell_type": "markdown",
   "metadata": {
    "collapsed": true
   },
   "source": [
    "# Random Forest Classification "
   ]
  },
  {
   "cell_type": "code",
   "execution_count": 16,
   "metadata": {},
   "outputs": [],
   "source": [
    "from sklearn.ensemble import RandomForestClassifier\n",
    "\n",
    "RF = RandomForestClassifier(n_estimators=100, random_state=0)\n",
    "RF.fit(X_train, y_train)\n",
    "y_pred = RF.predict(X_test)"
   ]
  },
  {
   "cell_type": "markdown",
   "metadata": {
    "collapsed": true
   },
   "source": [
    "#finding the Classification_report, Confusion_matrix, Accuracy_score for the trained model"
   ]
  },
  {
   "cell_type": "code",
   "execution_count": 17,
   "metadata": {},
   "outputs": [
    {
     "name": "stdout",
     "output_type": "stream",
     "text": [
      "Confusion Matrix: \n",
      " [[ 392    0    0    0    0    0]\n",
      " [   0  496    0    0   40    0]\n",
      " [   0    0   55    0    0    0]\n",
      " [   0    0    1   54    0    0]\n",
      " [   0    7    0    0 1656    1]\n",
      " [   0    0    0    0    0 1345]]\n",
      "\n",
      "Classification Report:\n",
      "                                                       precision    recall  f1-score   support\n",
      "\n",
      "                               ALCOHOL USE DISORDERS       1.00      1.00      1.00       392\n",
      "             BIPOLAR DISORDERS AND RELATED DISORDERS       0.99      0.93      0.95       536\n",
      "                              CANNABIS USE DISORDERS       0.98      1.00      0.99        55\n",
      "                               COCAINE USE DISORDERS       1.00      0.98      0.99        55\n",
      "                                DEPRESSIVE DISORDERS       0.98      1.00      0.99      1664\n",
      "SCHIZOPHRENIA SPECTRUM AND OTHER PSYCHOTIC DISORDERS       1.00      1.00      1.00      1345\n",
      "\n",
      "                                            accuracy                           0.99      4047\n",
      "                                           macro avg       0.99      0.98      0.99      4047\n",
      "                                        weighted avg       0.99      0.99      0.99      4047\n",
      "\n",
      "\n",
      "Accuracy Score:  0.9878922658759575\n",
      "\n",
      "AUC Score:  [0.98544023 0.98399463 0.97353547 0.98713678 0.97766756]\n",
      "\n",
      "Mean AUC Score:  0.9815549343598489\n"
     ]
    }
   ],
   "source": [
    "from sklearn.metrics import classification_report, confusion_matrix, accuracy_score\n",
    "from sklearn.model_selection import cross_val_score\n",
    "\n",
    "cs=cross_val_score(RF, X, y, cv=5, scoring='recall_macro')\n",
    "\n",
    "print(\"Confusion Matrix: \\n\",confusion_matrix(y_test,y_pred))\n",
    "print(\"\\nClassification Report:\\n\",classification_report(y_test,y_pred))\n",
    "print(\"\\nAccuracy Score: \",accuracy_score(y_test, y_pred))\n",
    "print(\"\\nAUC Score: \", cs)\n",
    "print(\"\\nMean AUC Score: \", cs.mean())\n",
    "RF_ACC = accuracy_score(y_test, y_pred)\n",
    "RF_SENS = cs.mean()"
   ]
  },
  {
   "cell_type": "code",
   "execution_count": 18,
   "metadata": {},
   "outputs": [],
   "source": [
    "#testing the model"
   ]
  },
  {
   "cell_type": "code",
   "execution_count": 19,
   "metadata": {},
   "outputs": [
    {
     "data": {
      "text/html": [
       "<div>\n",
       "<style scoped>\n",
       "    .dataframe tbody tr th:only-of-type {\n",
       "        vertical-align: middle;\n",
       "    }\n",
       "\n",
       "    .dataframe tbody tr th {\n",
       "        vertical-align: top;\n",
       "    }\n",
       "\n",
       "    .dataframe thead th {\n",
       "        text-align: right;\n",
       "    }\n",
       "</style>\n",
       "<table border=\"1\" class=\"dataframe\">\n",
       "  <thead>\n",
       "    <tr style=\"text-align: right;\">\n",
       "      <th></th>\n",
       "      <th>DSI</th>\n",
       "      <th>DPI</th>\n",
       "      <th>diseaseName</th>\n",
       "      <th>diseaseType</th>\n",
       "      <th>diseaseClass</th>\n",
       "      <th>diseaseSemanticType</th>\n",
       "      <th>score</th>\n",
       "      <th>EI</th>\n",
       "      <th>Gene_Description</th>\n",
       "      <th>diseaseClassNameMSH</th>\n",
       "    </tr>\n",
       "  </thead>\n",
       "  <tbody>\n",
       "    <tr>\n",
       "      <th>4358</th>\n",
       "      <td>0.596</td>\n",
       "      <td>0.621</td>\n",
       "      <td>5</td>\n",
       "      <td>0</td>\n",
       "      <td>5</td>\n",
       "      <td>1</td>\n",
       "      <td>0.01</td>\n",
       "      <td>1.0</td>\n",
       "      <td>15</td>\n",
       "      <td>3</td>\n",
       "    </tr>\n",
       "    <tr>\n",
       "      <th>3801</th>\n",
       "      <td>0.648</td>\n",
       "      <td>0.655</td>\n",
       "      <td>5</td>\n",
       "      <td>0</td>\n",
       "      <td>5</td>\n",
       "      <td>1</td>\n",
       "      <td>0.01</td>\n",
       "      <td>1.0</td>\n",
       "      <td>6</td>\n",
       "      <td>3</td>\n",
       "    </tr>\n",
       "    <tr>\n",
       "      <th>4430</th>\n",
       "      <td>0.656</td>\n",
       "      <td>0.448</td>\n",
       "      <td>5</td>\n",
       "      <td>0</td>\n",
       "      <td>5</td>\n",
       "      <td>1</td>\n",
       "      <td>0.40</td>\n",
       "      <td>1.0</td>\n",
       "      <td>15</td>\n",
       "      <td>3</td>\n",
       "    </tr>\n",
       "    <tr>\n",
       "      <th>142</th>\n",
       "      <td>0.472</td>\n",
       "      <td>0.724</td>\n",
       "      <td>15</td>\n",
       "      <td>0</td>\n",
       "      <td>5</td>\n",
       "      <td>1</td>\n",
       "      <td>0.31</td>\n",
       "      <td>1.0</td>\n",
       "      <td>13</td>\n",
       "      <td>3</td>\n",
       "    </tr>\n",
       "    <tr>\n",
       "      <th>2370</th>\n",
       "      <td>0.720</td>\n",
       "      <td>0.276</td>\n",
       "      <td>14</td>\n",
       "      <td>0</td>\n",
       "      <td>5</td>\n",
       "      <td>1</td>\n",
       "      <td>0.31</td>\n",
       "      <td>1.0</td>\n",
       "      <td>1</td>\n",
       "      <td>3</td>\n",
       "    </tr>\n",
       "  </tbody>\n",
       "</table>\n",
       "</div>"
      ],
      "text/plain": [
       "        DSI    DPI  diseaseName  diseaseType  diseaseClass  \\\n",
       "4358  0.596  0.621            5            0             5   \n",
       "3801  0.648  0.655            5            0             5   \n",
       "4430  0.656  0.448            5            0             5   \n",
       "142   0.472  0.724           15            0             5   \n",
       "2370  0.720  0.276           14            0             5   \n",
       "\n",
       "      diseaseSemanticType  score   EI  Gene_Description  diseaseClassNameMSH  \n",
       "4358                    1   0.01  1.0                15                    3  \n",
       "3801                    1   0.01  1.0                 6                    3  \n",
       "4430                    1   0.40  1.0                15                    3  \n",
       "142                     1   0.31  1.0                13                    3  \n",
       "2370                    1   0.31  1.0                 1                    3  "
      ]
     },
     "execution_count": 19,
     "metadata": {},
     "output_type": "execute_result"
    }
   ],
   "source": [
    "X_test.head(5)"
   ]
  },
  {
   "cell_type": "code",
   "execution_count": 20,
   "metadata": {},
   "outputs": [
    {
     "data": {
      "text/plain": [
       "4358                                 DEPRESSIVE DISORDERS\n",
       "3801                                 DEPRESSIVE DISORDERS\n",
       "4430                                 DEPRESSIVE DISORDERS\n",
       "142     SCHIZOPHRENIA SPECTRUM AND OTHER PSYCHOTIC DIS...\n",
       "2370    SCHIZOPHRENIA SPECTRUM AND OTHER PSYCHOTIC DIS...\n",
       "Name: PsychiatricDisorder, dtype: category\n",
       "Categories (6, object): [ALCOHOL USE DISORDERS, BIPOLAR DISORDERS AND RELATED DISORDERS, CANNABIS USE DISORDERS, COCAINE USE DISORDERS, DEPRESSIVE DISORDERS, SCHIZOPHRENIA SPECTRUM AND OTHER PSYCHOTIC DIS...]"
      ]
     },
     "execution_count": 20,
     "metadata": {},
     "output_type": "execute_result"
    }
   ],
   "source": [
    "y_test.head(5)"
   ]
  },
  {
   "cell_type": "code",
   "execution_count": 21,
   "metadata": {},
   "outputs": [],
   "source": [
    "tp=X_test.loc[[142]]"
   ]
  },
  {
   "cell_type": "code",
   "execution_count": 22,
   "metadata": {},
   "outputs": [
    {
     "data": {
      "text/html": [
       "<div>\n",
       "<style scoped>\n",
       "    .dataframe tbody tr th:only-of-type {\n",
       "        vertical-align: middle;\n",
       "    }\n",
       "\n",
       "    .dataframe tbody tr th {\n",
       "        vertical-align: top;\n",
       "    }\n",
       "\n",
       "    .dataframe thead th {\n",
       "        text-align: right;\n",
       "    }\n",
       "</style>\n",
       "<table border=\"1\" class=\"dataframe\">\n",
       "  <thead>\n",
       "    <tr style=\"text-align: right;\">\n",
       "      <th></th>\n",
       "      <th>DSI</th>\n",
       "      <th>DPI</th>\n",
       "      <th>diseaseName</th>\n",
       "      <th>diseaseType</th>\n",
       "      <th>diseaseClass</th>\n",
       "      <th>diseaseSemanticType</th>\n",
       "      <th>score</th>\n",
       "      <th>EI</th>\n",
       "      <th>Gene_Description</th>\n",
       "      <th>diseaseClassNameMSH</th>\n",
       "    </tr>\n",
       "  </thead>\n",
       "  <tbody>\n",
       "    <tr>\n",
       "      <th>142</th>\n",
       "      <td>0.472</td>\n",
       "      <td>0.724</td>\n",
       "      <td>15</td>\n",
       "      <td>0</td>\n",
       "      <td>5</td>\n",
       "      <td>1</td>\n",
       "      <td>0.31</td>\n",
       "      <td>1.0</td>\n",
       "      <td>13</td>\n",
       "      <td>3</td>\n",
       "    </tr>\n",
       "  </tbody>\n",
       "</table>\n",
       "</div>"
      ],
      "text/plain": [
       "       DSI    DPI  diseaseName  diseaseType  diseaseClass  \\\n",
       "142  0.472  0.724           15            0             5   \n",
       "\n",
       "     diseaseSemanticType  score   EI  Gene_Description  diseaseClassNameMSH  \n",
       "142                    1   0.31  1.0                13                    3  "
      ]
     },
     "execution_count": 22,
     "metadata": {},
     "output_type": "execute_result"
    }
   ],
   "source": [
    "tp"
   ]
  },
  {
   "cell_type": "code",
   "execution_count": 25,
   "metadata": {},
   "outputs": [],
   "source": [
    "testprediction=RF.predict(tp)"
   ]
  },
  {
   "cell_type": "code",
   "execution_count": 26,
   "metadata": {},
   "outputs": [
    {
     "data": {
      "text/plain": [
       "array(['SCHIZOPHRENIA SPECTRUM AND OTHER PSYCHOTIC DISORDERS'],\n",
       "      dtype=object)"
      ]
     },
     "execution_count": 26,
     "metadata": {},
     "output_type": "execute_result"
    }
   ],
   "source": [
    "testprediction"
   ]
  },
  {
   "cell_type": "markdown",
   "metadata": {
    "collapsed": true
   },
   "source": [
    "#The model has Predicted the right PsychiatricDisorder for the respective sliced indexed row"
   ]
  },
  {
   "cell_type": "markdown",
   "metadata": {},
   "source": [
    "# DecisionTreeClassifier"
   ]
  },
  {
   "cell_type": "code",
   "execution_count": 28,
   "metadata": {},
   "outputs": [],
   "source": [
    "from sklearn.tree import DecisionTreeClassifier\n",
    "\n",
    "DT = DecisionTreeClassifier()\n",
    "DT.fit(X_train, y_train)\n",
    "y_pred = DT.predict(X_test)"
   ]
  },
  {
   "cell_type": "code",
   "execution_count": 29,
   "metadata": {},
   "outputs": [
    {
     "name": "stdout",
     "output_type": "stream",
     "text": [
      "Confusion Matrix: \n",
      " [[ 392    0    0    0    0    0]\n",
      " [   0  496    0    0   40    0]\n",
      " [   0    0   55    0    0    0]\n",
      " [   0    0    0   55    0    0]\n",
      " [   0   33    0    0 1631    0]\n",
      " [   0    0    0    0    0 1345]]\n",
      "\n",
      "Classification Report:\n",
      "                                                       precision    recall  f1-score   support\n",
      "\n",
      "                               ALCOHOL USE DISORDERS       1.00      1.00      1.00       392\n",
      "             BIPOLAR DISORDERS AND RELATED DISORDERS       0.94      0.93      0.93       536\n",
      "                              CANNABIS USE DISORDERS       1.00      1.00      1.00        55\n",
      "                               COCAINE USE DISORDERS       1.00      1.00      1.00        55\n",
      "                                DEPRESSIVE DISORDERS       0.98      0.98      0.98      1664\n",
      "SCHIZOPHRENIA SPECTRUM AND OTHER PSYCHOTIC DISORDERS       1.00      1.00      1.00      1345\n",
      "\n",
      "                                            accuracy                           0.98      4047\n",
      "                                           macro avg       0.99      0.98      0.98      4047\n",
      "                                        weighted avg       0.98      0.98      0.98      4047\n",
      "\n",
      "\n",
      "Accuracy Score:  0.9819619471213245\n",
      "\n",
      "AUC Score:  [0.98405054 0.9849131  0.98405054 0.9822569  0.98277267]\n",
      "\n",
      "Mean AUC Score:  0.9836087510945168\n"
     ]
    }
   ],
   "source": [
    "from sklearn.metrics import classification_report, confusion_matrix, accuracy_score\n",
    "from sklearn.model_selection import cross_val_score\n",
    "\n",
    "cs=cross_val_score(DT, X, y, cv=5, scoring='recall_macro')\n",
    "\n",
    "print(\"Confusion Matrix: \\n\",confusion_matrix(y_test,y_pred))\n",
    "print(\"\\nClassification Report:\\n\",classification_report(y_test,y_pred))\n",
    "print(\"\\nAccuracy Score: \",accuracy_score(y_test, y_pred))\n",
    "print(\"\\nAUC Score: \", cs)\n",
    "print(\"\\nMean AUC Score: \", cs.mean())\n",
    "DT_ACC = accuracy_score(y_test, y_pred)\n",
    "DT_SENS = cs.mean()"
   ]
  },
  {
   "cell_type": "code",
   "execution_count": 30,
   "metadata": {},
   "outputs": [
    {
     "data": {
      "text/html": [
       "<div>\n",
       "<style scoped>\n",
       "    .dataframe tbody tr th:only-of-type {\n",
       "        vertical-align: middle;\n",
       "    }\n",
       "\n",
       "    .dataframe tbody tr th {\n",
       "        vertical-align: top;\n",
       "    }\n",
       "\n",
       "    .dataframe thead th {\n",
       "        text-align: right;\n",
       "    }\n",
       "</style>\n",
       "<table border=\"1\" class=\"dataframe\">\n",
       "  <thead>\n",
       "    <tr style=\"text-align: right;\">\n",
       "      <th></th>\n",
       "      <th>DSI</th>\n",
       "      <th>DPI</th>\n",
       "      <th>diseaseName</th>\n",
       "      <th>diseaseType</th>\n",
       "      <th>diseaseClass</th>\n",
       "      <th>diseaseSemanticType</th>\n",
       "      <th>score</th>\n",
       "      <th>EI</th>\n",
       "      <th>Gene_Description</th>\n",
       "      <th>diseaseClassNameMSH</th>\n",
       "    </tr>\n",
       "  </thead>\n",
       "  <tbody>\n",
       "    <tr>\n",
       "      <th>4358</th>\n",
       "      <td>0.596</td>\n",
       "      <td>0.621</td>\n",
       "      <td>5</td>\n",
       "      <td>0</td>\n",
       "      <td>5</td>\n",
       "      <td>1</td>\n",
       "      <td>0.01</td>\n",
       "      <td>1.0</td>\n",
       "      <td>15</td>\n",
       "      <td>3</td>\n",
       "    </tr>\n",
       "    <tr>\n",
       "      <th>3801</th>\n",
       "      <td>0.648</td>\n",
       "      <td>0.655</td>\n",
       "      <td>5</td>\n",
       "      <td>0</td>\n",
       "      <td>5</td>\n",
       "      <td>1</td>\n",
       "      <td>0.01</td>\n",
       "      <td>1.0</td>\n",
       "      <td>6</td>\n",
       "      <td>3</td>\n",
       "    </tr>\n",
       "    <tr>\n",
       "      <th>4430</th>\n",
       "      <td>0.656</td>\n",
       "      <td>0.448</td>\n",
       "      <td>5</td>\n",
       "      <td>0</td>\n",
       "      <td>5</td>\n",
       "      <td>1</td>\n",
       "      <td>0.40</td>\n",
       "      <td>1.0</td>\n",
       "      <td>15</td>\n",
       "      <td>3</td>\n",
       "    </tr>\n",
       "    <tr>\n",
       "      <th>142</th>\n",
       "      <td>0.472</td>\n",
       "      <td>0.724</td>\n",
       "      <td>15</td>\n",
       "      <td>0</td>\n",
       "      <td>5</td>\n",
       "      <td>1</td>\n",
       "      <td>0.31</td>\n",
       "      <td>1.0</td>\n",
       "      <td>13</td>\n",
       "      <td>3</td>\n",
       "    </tr>\n",
       "    <tr>\n",
       "      <th>2370</th>\n",
       "      <td>0.720</td>\n",
       "      <td>0.276</td>\n",
       "      <td>14</td>\n",
       "      <td>0</td>\n",
       "      <td>5</td>\n",
       "      <td>1</td>\n",
       "      <td>0.31</td>\n",
       "      <td>1.0</td>\n",
       "      <td>1</td>\n",
       "      <td>3</td>\n",
       "    </tr>\n",
       "  </tbody>\n",
       "</table>\n",
       "</div>"
      ],
      "text/plain": [
       "        DSI    DPI  diseaseName  diseaseType  diseaseClass  \\\n",
       "4358  0.596  0.621            5            0             5   \n",
       "3801  0.648  0.655            5            0             5   \n",
       "4430  0.656  0.448            5            0             5   \n",
       "142   0.472  0.724           15            0             5   \n",
       "2370  0.720  0.276           14            0             5   \n",
       "\n",
       "      diseaseSemanticType  score   EI  Gene_Description  diseaseClassNameMSH  \n",
       "4358                    1   0.01  1.0                15                    3  \n",
       "3801                    1   0.01  1.0                 6                    3  \n",
       "4430                    1   0.40  1.0                15                    3  \n",
       "142                     1   0.31  1.0                13                    3  \n",
       "2370                    1   0.31  1.0                 1                    3  "
      ]
     },
     "execution_count": 30,
     "metadata": {},
     "output_type": "execute_result"
    }
   ],
   "source": [
    "X_test.head(5)"
   ]
  },
  {
   "cell_type": "code",
   "execution_count": 31,
   "metadata": {},
   "outputs": [
    {
     "data": {
      "text/plain": [
       "4358                                 DEPRESSIVE DISORDERS\n",
       "3801                                 DEPRESSIVE DISORDERS\n",
       "4430                                 DEPRESSIVE DISORDERS\n",
       "142     SCHIZOPHRENIA SPECTRUM AND OTHER PSYCHOTIC DIS...\n",
       "2370    SCHIZOPHRENIA SPECTRUM AND OTHER PSYCHOTIC DIS...\n",
       "Name: PsychiatricDisorder, dtype: category\n",
       "Categories (6, object): [ALCOHOL USE DISORDERS, BIPOLAR DISORDERS AND RELATED DISORDERS, CANNABIS USE DISORDERS, COCAINE USE DISORDERS, DEPRESSIVE DISORDERS, SCHIZOPHRENIA SPECTRUM AND OTHER PSYCHOTIC DIS...]"
      ]
     },
     "execution_count": 31,
     "metadata": {},
     "output_type": "execute_result"
    }
   ],
   "source": [
    "y_test.head(5)"
   ]
  },
  {
   "cell_type": "code",
   "execution_count": 32,
   "metadata": {},
   "outputs": [],
   "source": [
    "tp=X_test.loc[[141]]"
   ]
  },
  {
   "cell_type": "code",
   "execution_count": 33,
   "metadata": {},
   "outputs": [
    {
     "data": {
      "text/plain": [
       "'SCHIZOPHRENIA SPECTRUM AND OTHER PSYCHOTIC DISORDERS'"
      ]
     },
     "execution_count": 33,
     "metadata": {},
     "output_type": "execute_result"
    }
   ],
   "source": [
    "tp\n",
    "testprediction=DT.predict(tp)\n",
    "testprediction[0]"
   ]
  },
  {
   "cell_type": "markdown",
   "metadata": {},
   "source": [
    "# Principal component analysis (PCA) with KNN"
   ]
  },
  {
   "cell_type": "code",
   "execution_count": 34,
   "metadata": {},
   "outputs": [],
   "source": [
    "from sklearn.preprocessing import StandardScaler\n",
    "Y_std = StandardScaler().fit_transform(X)"
   ]
  },
  {
   "cell_type": "code",
   "execution_count": 35,
   "metadata": {},
   "outputs": [],
   "source": [
    "from sklearn.decomposition import PCA as sklearnPCA\n",
    "sklearn_pca = sklearnPCA()\n",
    "test_reduced = sklearn_pca.fit_transform(Y_std)"
   ]
  },
  {
   "cell_type": "code",
   "execution_count": 36,
   "metadata": {},
   "outputs": [
    {
     "data": {
      "text/html": [
       "<div>\n",
       "<style scoped>\n",
       "    .dataframe tbody tr th:only-of-type {\n",
       "        vertical-align: middle;\n",
       "    }\n",
       "\n",
       "    .dataframe tbody tr th {\n",
       "        vertical-align: top;\n",
       "    }\n",
       "\n",
       "    .dataframe thead th {\n",
       "        text-align: right;\n",
       "    }\n",
       "</style>\n",
       "<table border=\"1\" class=\"dataframe\">\n",
       "  <thead>\n",
       "    <tr style=\"text-align: right;\">\n",
       "      <th></th>\n",
       "      <th>0</th>\n",
       "      <th>1</th>\n",
       "      <th>2</th>\n",
       "      <th>3</th>\n",
       "      <th>4</th>\n",
       "      <th>5</th>\n",
       "      <th>6</th>\n",
       "      <th>7</th>\n",
       "      <th>8</th>\n",
       "      <th>9</th>\n",
       "    </tr>\n",
       "  </thead>\n",
       "  <tbody>\n",
       "    <tr>\n",
       "      <th>0</th>\n",
       "      <td>0.930428</td>\n",
       "      <td>-0.625093</td>\n",
       "      <td>-0.285212</td>\n",
       "      <td>0.175210</td>\n",
       "      <td>-0.373308</td>\n",
       "      <td>-0.857741</td>\n",
       "      <td>0.248154</td>\n",
       "      <td>-0.820724</td>\n",
       "      <td>0.273145</td>\n",
       "      <td>-0.356689</td>\n",
       "    </tr>\n",
       "    <tr>\n",
       "      <th>1</th>\n",
       "      <td>1.612670</td>\n",
       "      <td>0.261089</td>\n",
       "      <td>0.734185</td>\n",
       "      <td>0.618319</td>\n",
       "      <td>-2.115669</td>\n",
       "      <td>-0.755077</td>\n",
       "      <td>-1.011316</td>\n",
       "      <td>0.705217</td>\n",
       "      <td>0.251793</td>\n",
       "      <td>-0.373956</td>\n",
       "    </tr>\n",
       "    <tr>\n",
       "      <th>2</th>\n",
       "      <td>2.666221</td>\n",
       "      <td>-1.755079</td>\n",
       "      <td>1.059765</td>\n",
       "      <td>0.365970</td>\n",
       "      <td>1.087341</td>\n",
       "      <td>-0.489050</td>\n",
       "      <td>-0.154159</td>\n",
       "      <td>-0.391201</td>\n",
       "      <td>0.176726</td>\n",
       "      <td>-0.379684</td>\n",
       "    </tr>\n",
       "  </tbody>\n",
       "</table>\n",
       "</div>"
      ],
      "text/plain": [
       "          0         1         2         3         4         5         6  \\\n",
       "0  0.930428 -0.625093 -0.285212  0.175210 -0.373308 -0.857741  0.248154   \n",
       "1  1.612670  0.261089  0.734185  0.618319 -2.115669 -0.755077 -1.011316   \n",
       "2  2.666221 -1.755079  1.059765  0.365970  1.087341 -0.489050 -0.154159   \n",
       "\n",
       "          7         8         9  \n",
       "0 -0.820724  0.273145 -0.356689  \n",
       "1  0.705217  0.251793 -0.373956  \n",
       "2 -0.391201  0.176726 -0.379684  "
      ]
     },
     "execution_count": 36,
     "metadata": {},
     "output_type": "execute_result"
    }
   ],
   "source": [
    "test_set = pd.DataFrame(test_reduced)\n",
    "\n",
    "test_set.head(3)"
   ]
  },
  {
   "cell_type": "code",
   "execution_count": 37,
   "metadata": {},
   "outputs": [],
   "source": [
    "from sklearn.neighbors import KNeighborsClassifier\n",
    "KNN_PCA= KNeighborsClassifier(n_neighbors=10,)\n",
    "KNN_PCA.fit(X_train, y_train)\n",
    "y_pred = KNN_PCA.predict(X_test)"
   ]
  },
  {
   "cell_type": "code",
   "execution_count": 38,
   "metadata": {},
   "outputs": [
    {
     "name": "stdout",
     "output_type": "stream",
     "text": [
      "Confusion Matrix: \n",
      " [[ 389    0    0    0    0    3]\n",
      " [   0  495    0    0   41    0]\n",
      " [   0    0   55    0    0    0]\n",
      " [   0    0    0   55    0    0]\n",
      " [   0    0    0    0 1644   20]\n",
      " [   0    0    0    0   11 1334]]\n",
      "\n",
      "Classification Report:\n",
      "                                                       precision    recall  f1-score   support\n",
      "\n",
      "                               ALCOHOL USE DISORDERS       1.00      0.99      1.00       392\n",
      "             BIPOLAR DISORDERS AND RELATED DISORDERS       1.00      0.92      0.96       536\n",
      "                              CANNABIS USE DISORDERS       1.00      1.00      1.00        55\n",
      "                               COCAINE USE DISORDERS       1.00      1.00      1.00        55\n",
      "                                DEPRESSIVE DISORDERS       0.97      0.99      0.98      1664\n",
      "SCHIZOPHRENIA SPECTRUM AND OTHER PSYCHOTIC DISORDERS       0.98      0.99      0.99      1345\n",
      "\n",
      "                                            accuracy                           0.98      4047\n",
      "                                           macro avg       0.99      0.98      0.99      4047\n",
      "                                        weighted avg       0.98      0.98      0.98      4047\n",
      "\n",
      "\n",
      "Accuracy Score:  0.9814677538917717\n",
      "\n",
      "AUC Score:  [0.98544023 0.98699764 0.98109862 0.98788754 0.99215705]\n",
      "\n",
      "Mean AUC Score:  0.98671621423811\n"
     ]
    }
   ],
   "source": [
    "from sklearn.metrics import classification_report, confusion_matrix, accuracy_score\n",
    "from sklearn.model_selection import cross_val_score\n",
    "\n",
    "cs=cross_val_score(KNN_PCA, X, y, cv=5, scoring='recall_macro')\n",
    "\n",
    "print(\"Confusion Matrix: \\n\",confusion_matrix(y_test,y_pred))\n",
    "print(\"\\nClassification Report:\\n\",classification_report(y_test,y_pred))\n",
    "print(\"\\nAccuracy Score: \",accuracy_score(y_test, y_pred))\n",
    "print(\"\\nAUC Score: \", cs)\n",
    "print(\"\\nMean AUC Score: \", cs.mean())\n",
    "PCA_ACC = accuracy_score(y_test, y_pred)\n",
    "PCA_SENS = cs.mean()"
   ]
  },
  {
   "cell_type": "code",
   "execution_count": 39,
   "metadata": {},
   "outputs": [
    {
     "data": {
      "text/html": [
       "<div>\n",
       "<style scoped>\n",
       "    .dataframe tbody tr th:only-of-type {\n",
       "        vertical-align: middle;\n",
       "    }\n",
       "\n",
       "    .dataframe tbody tr th {\n",
       "        vertical-align: top;\n",
       "    }\n",
       "\n",
       "    .dataframe thead th {\n",
       "        text-align: right;\n",
       "    }\n",
       "</style>\n",
       "<table border=\"1\" class=\"dataframe\">\n",
       "  <thead>\n",
       "    <tr style=\"text-align: right;\">\n",
       "      <th></th>\n",
       "      <th>DSI</th>\n",
       "      <th>DPI</th>\n",
       "      <th>diseaseName</th>\n",
       "      <th>diseaseType</th>\n",
       "      <th>diseaseClass</th>\n",
       "      <th>diseaseSemanticType</th>\n",
       "      <th>score</th>\n",
       "      <th>EI</th>\n",
       "      <th>Gene_Description</th>\n",
       "      <th>diseaseClassNameMSH</th>\n",
       "    </tr>\n",
       "  </thead>\n",
       "  <tbody>\n",
       "    <tr>\n",
       "      <th>4358</th>\n",
       "      <td>0.596</td>\n",
       "      <td>0.621</td>\n",
       "      <td>5</td>\n",
       "      <td>0</td>\n",
       "      <td>5</td>\n",
       "      <td>1</td>\n",
       "      <td>0.01</td>\n",
       "      <td>1.0</td>\n",
       "      <td>15</td>\n",
       "      <td>3</td>\n",
       "    </tr>\n",
       "    <tr>\n",
       "      <th>3801</th>\n",
       "      <td>0.648</td>\n",
       "      <td>0.655</td>\n",
       "      <td>5</td>\n",
       "      <td>0</td>\n",
       "      <td>5</td>\n",
       "      <td>1</td>\n",
       "      <td>0.01</td>\n",
       "      <td>1.0</td>\n",
       "      <td>6</td>\n",
       "      <td>3</td>\n",
       "    </tr>\n",
       "    <tr>\n",
       "      <th>4430</th>\n",
       "      <td>0.656</td>\n",
       "      <td>0.448</td>\n",
       "      <td>5</td>\n",
       "      <td>0</td>\n",
       "      <td>5</td>\n",
       "      <td>1</td>\n",
       "      <td>0.40</td>\n",
       "      <td>1.0</td>\n",
       "      <td>15</td>\n",
       "      <td>3</td>\n",
       "    </tr>\n",
       "    <tr>\n",
       "      <th>142</th>\n",
       "      <td>0.472</td>\n",
       "      <td>0.724</td>\n",
       "      <td>15</td>\n",
       "      <td>0</td>\n",
       "      <td>5</td>\n",
       "      <td>1</td>\n",
       "      <td>0.31</td>\n",
       "      <td>1.0</td>\n",
       "      <td>13</td>\n",
       "      <td>3</td>\n",
       "    </tr>\n",
       "    <tr>\n",
       "      <th>2370</th>\n",
       "      <td>0.720</td>\n",
       "      <td>0.276</td>\n",
       "      <td>14</td>\n",
       "      <td>0</td>\n",
       "      <td>5</td>\n",
       "      <td>1</td>\n",
       "      <td>0.31</td>\n",
       "      <td>1.0</td>\n",
       "      <td>1</td>\n",
       "      <td>3</td>\n",
       "    </tr>\n",
       "  </tbody>\n",
       "</table>\n",
       "</div>"
      ],
      "text/plain": [
       "        DSI    DPI  diseaseName  diseaseType  diseaseClass  \\\n",
       "4358  0.596  0.621            5            0             5   \n",
       "3801  0.648  0.655            5            0             5   \n",
       "4430  0.656  0.448            5            0             5   \n",
       "142   0.472  0.724           15            0             5   \n",
       "2370  0.720  0.276           14            0             5   \n",
       "\n",
       "      diseaseSemanticType  score   EI  Gene_Description  diseaseClassNameMSH  \n",
       "4358                    1   0.01  1.0                15                    3  \n",
       "3801                    1   0.01  1.0                 6                    3  \n",
       "4430                    1   0.40  1.0                15                    3  \n",
       "142                     1   0.31  1.0                13                    3  \n",
       "2370                    1   0.31  1.0                 1                    3  "
      ]
     },
     "execution_count": 39,
     "metadata": {},
     "output_type": "execute_result"
    }
   ],
   "source": [
    "X_test.head(5)"
   ]
  },
  {
   "cell_type": "code",
   "execution_count": 40,
   "metadata": {},
   "outputs": [
    {
     "data": {
      "text/plain": [
       "4358                                 DEPRESSIVE DISORDERS\n",
       "3801                                 DEPRESSIVE DISORDERS\n",
       "4430                                 DEPRESSIVE DISORDERS\n",
       "142     SCHIZOPHRENIA SPECTRUM AND OTHER PSYCHOTIC DIS...\n",
       "2370    SCHIZOPHRENIA SPECTRUM AND OTHER PSYCHOTIC DIS...\n",
       "Name: PsychiatricDisorder, dtype: category\n",
       "Categories (6, object): [ALCOHOL USE DISORDERS, BIPOLAR DISORDERS AND RELATED DISORDERS, CANNABIS USE DISORDERS, COCAINE USE DISORDERS, DEPRESSIVE DISORDERS, SCHIZOPHRENIA SPECTRUM AND OTHER PSYCHOTIC DIS...]"
      ]
     },
     "execution_count": 40,
     "metadata": {},
     "output_type": "execute_result"
    }
   ],
   "source": [
    "y_test.head(5)"
   ]
  },
  {
   "cell_type": "code",
   "execution_count": 41,
   "metadata": {},
   "outputs": [],
   "source": [
    "tp=X_test.loc[[4430]]"
   ]
  },
  {
   "cell_type": "code",
   "execution_count": 42,
   "metadata": {},
   "outputs": [
    {
     "data": {
      "text/html": [
       "<div>\n",
       "<style scoped>\n",
       "    .dataframe tbody tr th:only-of-type {\n",
       "        vertical-align: middle;\n",
       "    }\n",
       "\n",
       "    .dataframe tbody tr th {\n",
       "        vertical-align: top;\n",
       "    }\n",
       "\n",
       "    .dataframe thead th {\n",
       "        text-align: right;\n",
       "    }\n",
       "</style>\n",
       "<table border=\"1\" class=\"dataframe\">\n",
       "  <thead>\n",
       "    <tr style=\"text-align: right;\">\n",
       "      <th></th>\n",
       "      <th>DSI</th>\n",
       "      <th>DPI</th>\n",
       "      <th>diseaseName</th>\n",
       "      <th>diseaseType</th>\n",
       "      <th>diseaseClass</th>\n",
       "      <th>diseaseSemanticType</th>\n",
       "      <th>score</th>\n",
       "      <th>EI</th>\n",
       "      <th>Gene_Description</th>\n",
       "      <th>diseaseClassNameMSH</th>\n",
       "    </tr>\n",
       "  </thead>\n",
       "  <tbody>\n",
       "    <tr>\n",
       "      <th>4430</th>\n",
       "      <td>0.656</td>\n",
       "      <td>0.448</td>\n",
       "      <td>5</td>\n",
       "      <td>0</td>\n",
       "      <td>5</td>\n",
       "      <td>1</td>\n",
       "      <td>0.4</td>\n",
       "      <td>1.0</td>\n",
       "      <td>15</td>\n",
       "      <td>3</td>\n",
       "    </tr>\n",
       "  </tbody>\n",
       "</table>\n",
       "</div>"
      ],
      "text/plain": [
       "        DSI    DPI  diseaseName  diseaseType  diseaseClass  \\\n",
       "4430  0.656  0.448            5            0             5   \n",
       "\n",
       "      diseaseSemanticType  score   EI  Gene_Description  diseaseClassNameMSH  \n",
       "4430                    1    0.4  1.0                15                    3  "
      ]
     },
     "execution_count": 42,
     "metadata": {},
     "output_type": "execute_result"
    }
   ],
   "source": [
    "tp"
   ]
  },
  {
   "cell_type": "code",
   "execution_count": 43,
   "metadata": {},
   "outputs": [],
   "source": [
    "testprediction=KNN_PCA.predict(tp)"
   ]
  },
  {
   "cell_type": "code",
   "execution_count": 44,
   "metadata": {},
   "outputs": [
    {
     "data": {
      "text/plain": [
       "array(['DEPRESSIVE DISORDERS'], dtype=object)"
      ]
     },
     "execution_count": 44,
     "metadata": {},
     "output_type": "execute_result"
    }
   ],
   "source": [
    "testprediction"
   ]
  },
  {
   "cell_type": "markdown",
   "metadata": {},
   "source": [
    "# Multinomial Naive Bayes Classifier"
   ]
  },
  {
   "cell_type": "code",
   "execution_count": 45,
   "metadata": {},
   "outputs": [],
   "source": [
    "from sklearn.naive_bayes import MultinomialNB\n",
    "MNB = MultinomialNB()\n",
    "MNB.fit(X_train, y_train)\n",
    "y_pred = MNB.predict(X_test)"
   ]
  },
  {
   "cell_type": "code",
   "execution_count": 46,
   "metadata": {},
   "outputs": [
    {
     "name": "stdout",
     "output_type": "stream",
     "text": [
      "Confusion Matrix: \n",
      " [[ 335    0    0    0    0   57]\n",
      " [   0    1    0    0  535    0]\n",
      " [  14    0    0    0    0   41]\n",
      " [  55    0    0    0    0    0]\n",
      " [   0    4    0    0 1640   20]\n",
      " [   0    0    0    0   44 1301]]\n",
      "\n",
      "Classification Report:\n",
      "                                                       precision    recall  f1-score   support\n",
      "\n",
      "                               ALCOHOL USE DISORDERS       0.83      0.85      0.84       392\n",
      "             BIPOLAR DISORDERS AND RELATED DISORDERS       0.20      0.00      0.00       536\n",
      "                              CANNABIS USE DISORDERS       0.00      0.00      0.00        55\n",
      "                               COCAINE USE DISORDERS       0.00      0.00      0.00        55\n",
      "                                DEPRESSIVE DISORDERS       0.74      0.99      0.84      1664\n",
      "SCHIZOPHRENIA SPECTRUM AND OTHER PSYCHOTIC DISORDERS       0.92      0.97      0.94      1345\n",
      "\n",
      "                                            accuracy                           0.81      4047\n",
      "                                           macro avg       0.45      0.47      0.44      4047\n",
      "                                        weighted avg       0.72      0.81      0.74      4047\n",
      "\n",
      "\n",
      "Accuracy Score:  0.8097356066221892\n",
      "\n",
      "AUC Score:  [0.46650297 0.4633728  0.45776509 0.47347825 0.47183043]\n",
      "\n",
      "Mean AUC Score:  0.4665899058982613\n"
     ]
    },
    {
     "name": "stderr",
     "output_type": "stream",
     "text": [
      "/home/user/anaconda3/lib/python3.7/site-packages/sklearn/metrics/_classification.py:1221: UndefinedMetricWarning: Precision and F-score are ill-defined and being set to 0.0 in labels with no predicted samples. Use `zero_division` parameter to control this behavior.\n",
      "  _warn_prf(average, modifier, msg_start, len(result))\n"
     ]
    }
   ],
   "source": [
    "from sklearn.metrics import classification_report, confusion_matrix, accuracy_score\n",
    "from sklearn.model_selection import cross_val_score\n",
    "\n",
    "cs=cross_val_score(MNB, X, y, cv=5, scoring='recall_macro')\n",
    "\n",
    "print(\"Confusion Matrix: \\n\",confusion_matrix(y_test,y_pred))\n",
    "print(\"\\nClassification Report:\\n\",classification_report(y_test,y_pred))\n",
    "print(\"\\nAccuracy Score: \",accuracy_score(y_test, y_pred))\n",
    "print(\"\\nAUC Score: \", cs)\n",
    "print(\"\\nMean AUC Score: \", cs.mean())\n",
    "MNB_ACC = accuracy_score(y_test, y_pred)\n",
    "MNB_SENS = cs.mean()"
   ]
  },
  {
   "cell_type": "code",
   "execution_count": 47,
   "metadata": {},
   "outputs": [
    {
     "data": {
      "text/html": [
       "<div>\n",
       "<style scoped>\n",
       "    .dataframe tbody tr th:only-of-type {\n",
       "        vertical-align: middle;\n",
       "    }\n",
       "\n",
       "    .dataframe tbody tr th {\n",
       "        vertical-align: top;\n",
       "    }\n",
       "\n",
       "    .dataframe thead th {\n",
       "        text-align: right;\n",
       "    }\n",
       "</style>\n",
       "<table border=\"1\" class=\"dataframe\">\n",
       "  <thead>\n",
       "    <tr style=\"text-align: right;\">\n",
       "      <th></th>\n",
       "      <th>DSI</th>\n",
       "      <th>DPI</th>\n",
       "      <th>diseaseName</th>\n",
       "      <th>diseaseType</th>\n",
       "      <th>diseaseClass</th>\n",
       "      <th>diseaseSemanticType</th>\n",
       "      <th>score</th>\n",
       "      <th>EI</th>\n",
       "      <th>Gene_Description</th>\n",
       "      <th>diseaseClassNameMSH</th>\n",
       "    </tr>\n",
       "  </thead>\n",
       "  <tbody>\n",
       "    <tr>\n",
       "      <th>4358</th>\n",
       "      <td>0.596</td>\n",
       "      <td>0.621</td>\n",
       "      <td>5</td>\n",
       "      <td>0</td>\n",
       "      <td>5</td>\n",
       "      <td>1</td>\n",
       "      <td>0.01</td>\n",
       "      <td>1.0</td>\n",
       "      <td>15</td>\n",
       "      <td>3</td>\n",
       "    </tr>\n",
       "    <tr>\n",
       "      <th>3801</th>\n",
       "      <td>0.648</td>\n",
       "      <td>0.655</td>\n",
       "      <td>5</td>\n",
       "      <td>0</td>\n",
       "      <td>5</td>\n",
       "      <td>1</td>\n",
       "      <td>0.01</td>\n",
       "      <td>1.0</td>\n",
       "      <td>6</td>\n",
       "      <td>3</td>\n",
       "    </tr>\n",
       "    <tr>\n",
       "      <th>4430</th>\n",
       "      <td>0.656</td>\n",
       "      <td>0.448</td>\n",
       "      <td>5</td>\n",
       "      <td>0</td>\n",
       "      <td>5</td>\n",
       "      <td>1</td>\n",
       "      <td>0.40</td>\n",
       "      <td>1.0</td>\n",
       "      <td>15</td>\n",
       "      <td>3</td>\n",
       "    </tr>\n",
       "    <tr>\n",
       "      <th>142</th>\n",
       "      <td>0.472</td>\n",
       "      <td>0.724</td>\n",
       "      <td>15</td>\n",
       "      <td>0</td>\n",
       "      <td>5</td>\n",
       "      <td>1</td>\n",
       "      <td>0.31</td>\n",
       "      <td>1.0</td>\n",
       "      <td>13</td>\n",
       "      <td>3</td>\n",
       "    </tr>\n",
       "    <tr>\n",
       "      <th>2370</th>\n",
       "      <td>0.720</td>\n",
       "      <td>0.276</td>\n",
       "      <td>14</td>\n",
       "      <td>0</td>\n",
       "      <td>5</td>\n",
       "      <td>1</td>\n",
       "      <td>0.31</td>\n",
       "      <td>1.0</td>\n",
       "      <td>1</td>\n",
       "      <td>3</td>\n",
       "    </tr>\n",
       "  </tbody>\n",
       "</table>\n",
       "</div>"
      ],
      "text/plain": [
       "        DSI    DPI  diseaseName  diseaseType  diseaseClass  \\\n",
       "4358  0.596  0.621            5            0             5   \n",
       "3801  0.648  0.655            5            0             5   \n",
       "4430  0.656  0.448            5            0             5   \n",
       "142   0.472  0.724           15            0             5   \n",
       "2370  0.720  0.276           14            0             5   \n",
       "\n",
       "      diseaseSemanticType  score   EI  Gene_Description  diseaseClassNameMSH  \n",
       "4358                    1   0.01  1.0                15                    3  \n",
       "3801                    1   0.01  1.0                 6                    3  \n",
       "4430                    1   0.40  1.0                15                    3  \n",
       "142                     1   0.31  1.0                13                    3  \n",
       "2370                    1   0.31  1.0                 1                    3  "
      ]
     },
     "execution_count": 47,
     "metadata": {},
     "output_type": "execute_result"
    }
   ],
   "source": [
    "X_test.head(5)"
   ]
  },
  {
   "cell_type": "code",
   "execution_count": 48,
   "metadata": {},
   "outputs": [
    {
     "data": {
      "text/plain": [
       "4358                                 DEPRESSIVE DISORDERS\n",
       "3801                                 DEPRESSIVE DISORDERS\n",
       "4430                                 DEPRESSIVE DISORDERS\n",
       "142     SCHIZOPHRENIA SPECTRUM AND OTHER PSYCHOTIC DIS...\n",
       "2370    SCHIZOPHRENIA SPECTRUM AND OTHER PSYCHOTIC DIS...\n",
       "Name: PsychiatricDisorder, dtype: category\n",
       "Categories (6, object): [ALCOHOL USE DISORDERS, BIPOLAR DISORDERS AND RELATED DISORDERS, CANNABIS USE DISORDERS, COCAINE USE DISORDERS, DEPRESSIVE DISORDERS, SCHIZOPHRENIA SPECTRUM AND OTHER PSYCHOTIC DIS...]"
      ]
     },
     "execution_count": 48,
     "metadata": {},
     "output_type": "execute_result"
    }
   ],
   "source": [
    "y_test.head(5)"
   ]
  },
  {
   "cell_type": "code",
   "execution_count": 49,
   "metadata": {},
   "outputs": [],
   "source": [
    "tp=X_test.loc[[3801]]"
   ]
  },
  {
   "cell_type": "code",
   "execution_count": 50,
   "metadata": {},
   "outputs": [
    {
     "data": {
      "text/plain": [
       "'DEPRESSIVE DISORDERS'"
      ]
     },
     "execution_count": 50,
     "metadata": {},
     "output_type": "execute_result"
    }
   ],
   "source": [
    "tp\n",
    "testprediction=MNB.predict(tp)\n",
    "testprediction[0]"
   ]
  },
  {
   "cell_type": "markdown",
   "metadata": {},
   "source": [
    "# ACCURACY "
   ]
  },
  {
   "cell_type": "markdown",
   "metadata": {},
   "source": [
    "P-GDA : Proposed Genetic Disease Analysis\n",
    "PCA : Principal component analysis"
   ]
  },
  {
   "cell_type": "code",
   "execution_count": 51,
   "metadata": {},
   "outputs": [
    {
     "name": "stderr",
     "output_type": "stream",
     "text": [
      "/home/user/anaconda3/lib/python3.7/site-packages/ipykernel_launcher.py:10: FutureWarning: 'from_array' is deprecated and will be removed in a future version. Please use the pd.Series(..) constructor instead.\n",
      "  # Remove the CWD from sys.path while we load stuff.\n"
     ]
    },
    {
     "data": {
      "image/png": "[encoded data removed]",
      "text/plain": [
       "<Figure size 864x576 with 1 Axes>"
      ]
     },
     "metadata": {
      "needs_background": "light"
     },
     "output_type": "display_data"
    }
   ],
   "source": [
    "import numpy as np\n",
    "import pandas as pd\n",
    "import matplotlib.pyplot as plt\n",
    "\n",
    "# Bring some raw data.\n",
    "frequencies = [RF_ACC,DT_ACC,PCA_ACC,MNB_ACC]\n",
    "\n",
    "# In my original code I create a series and run on that,\n",
    "# so for consistency I create a series from the list.\n",
    "freq_series = pd.Series.from_array(frequencies)\n",
    "\n",
    "x_labels = ['Random Forest', 'Decision Tree_P-GDA','PCA','MNB_P-GDA']\n",
    "\n",
    "# Plot the figure.\n",
    "plt.figure(figsize=(12, 8))\n",
    "ax = freq_series.plot(kind='bar')\n",
    "ax.set_title('Evaluation of ML & DL')\n",
    "ax.set_xlabel('Classifier!')\n",
    "ax.set_ylabel('Accuracy Range')\n",
    "ax.set_xticklabels(x_labels)\n",
    "\n",
    "\n",
    "def add_value_labels(ax, spacing=5):\n",
    "    \"\"\"Add labels to the end of each bar in a bar chart.\n",
    "\n",
    "    Arguments:\n",
    "        ax (matplotlib.axes.Axes): The matplotlib object containing the axes\n",
    "            of the plot to annotate.\n",
    "        spacing (int): The distance between the labels and the bars.\n",
    "    \"\"\"\n",
    "\n",
    "    # For each bar: Place a label\n",
    "    for rect in ax.patches:\n",
    "        # Get X and Y placement of label from rect.\n",
    "        y_value = rect.get_height()\n",
    "        x_value = rect.get_x() + rect.get_width() / 2\n",
    "\n",
    "        # Number of points between bar and label. Change to your liking.\n",
    "        space = spacing\n",
    "        # Vertical alignment for positive values\n",
    "        va = 'bottom'\n",
    "\n",
    "        # If value of bar is negative: Place label below bar\n",
    "        if y_value < 0:\n",
    "            # Invert space to place label below\n",
    "            space *= -1\n",
    "            # Vertically align label at top\n",
    "            va = 'top'\n",
    "\n",
    "        # Use Y value as label and format number with one decimal place\n",
    "        label = \"{:.1f}\".format(y_value)\n",
    "\n",
    "        # Create annotation\n",
    "        ax.annotate(\n",
    "            label,                      # Use `label` as label\n",
    "            (x_value, y_value),         # Place label at end of the bar\n",
    "            xytext=(0, space),          # Vertically shift label by `space`\n",
    "            textcoords=\"offset points\", # Interpret `xytext` as offset in points\n",
    "            ha='center',                # Horizontally center label\n",
    "            va=va)                      # Vertically align label differently for\n",
    "                                        # positive and negative values.\n",
    "\n",
    "\n",
    "# Call the function above. All the magic happens there.\n",
    "add_value_labels(ax)\n",
    "plt.show()\n",
    "#plt.savefig(\"image.png\")"
   ]
  },
  {
   "cell_type": "markdown",
   "metadata": {},
   "source": [
    "# Sensitivity"
   ]
  },
  {
   "cell_type": "code",
   "execution_count": 52,
   "metadata": {},
   "outputs": [
    {
     "name": "stderr",
     "output_type": "stream",
     "text": [
      "/home/user/anaconda3/lib/python3.7/site-packages/ipykernel_launcher.py:10: FutureWarning: 'from_array' is deprecated and will be removed in a future version. Please use the pd.Series(..) constructor instead.\n",
      "  # Remove the CWD from sys.path while we load stuff.\n"
     ]
    },
    {
     "data": {
      "image/png": "[encoded data removed]",
      "text/plain": [
       "<Figure size 864x576 with 1 Axes>"
      ]
     },
     "metadata": {
      "needs_background": "light"
     },
     "output_type": "display_data"
    }
   ],
   "source": [
    "import numpy as np\n",
    "import pandas as pd\n",
    "import matplotlib.pyplot as plt\n",
    "\n",
    "# Bring some raw data.\n",
    "frequencies = [RF_SENS,DT_SENS,PCA_SENS,MNB_SENS]\n",
    "\n",
    "# In my original code I create a series and run on that,\n",
    "# so for consistency I create a series from the list.\n",
    "freq_series = pd.Series.from_array(frequencies)\n",
    "\n",
    "x_labels = ['Random Forest', 'Decision Tree_P-GDA','PCA','MNB_P-GDA']\n",
    "\n",
    "# Plot the figure.\n",
    "plt.figure(figsize=(12, 8))\n",
    "ax = freq_series.plot(kind='bar')\n",
    "ax.set_title('Evaluation of ML & DL')\n",
    "ax.set_xlabel('Classifier!')\n",
    "ax.set_ylabel('Accuracy Range')\n",
    "ax.set_xticklabels(x_labels)\n",
    "\n",
    "\n",
    "def add_value_labels(ax, spacing=5):\n",
    "    \"\"\"Add labels to the end of each bar in a bar chart.\n",
    "\n",
    "    Arguments:\n",
    "        ax (matplotlib.axes.Axes): The matplotlib object containing the axes\n",
    "            of the plot to annotate.\n",
    "        spacing (int): The distance between the labels and the bars.\n",
    "    \"\"\"\n",
    "\n",
    "    # For each bar: Place a label\n",
    "    for rect in ax.patches:\n",
    "        # Get X and Y placement of label from rect.\n",
    "        y_value = rect.get_height()\n",
    "        x_value = rect.get_x() + rect.get_width() / 2\n",
    "\n",
    "        # Number of points between bar and label. Change to your liking.\n",
    "        space = spacing\n",
    "        # Vertical alignment for positive values\n",
    "        va = 'bottom'\n",
    "\n",
    "        # If value of bar is negative: Place label below bar\n",
    "        if y_value < 0:\n",
    "            # Invert space to place label below\n",
    "            space *= -1\n",
    "            # Vertically align label at top\n",
    "            va = 'top'\n",
    "\n",
    "        # Use Y value as label and format number with one decimal place\n",
    "        label = \"{:.1f}\".format(y_value)\n",
    "\n",
    "        # Create annotation\n",
    "        ax.annotate(\n",
    "            label,                      # Use `label` as label\n",
    "            (x_value, y_value),         # Place label at end of the bar\n",
    "            xytext=(0, space),          # Vertically shift label by `space`\n",
    "            textcoords=\"offset points\", # Interpret `xytext` as offset in points\n",
    "            ha='center',                # Horizontally center label\n",
    "            va=va)                      # Vertically align label differently for\n",
    "                                        # positive and negative values.\n",
    "\n",
    "\n",
    "# Call the function above. All the magic happens there.\n",
    "add_value_labels(ax)\n",
    "plt.show()\n",
    "#plt.savefig(\"image.png\")"
   ]
  },
  {
   "cell_type": "code",
   "execution_count": null,
   "metadata": {},
   "outputs": [],
   "source": []
  }
 ],
 "metadata": {
  "kernelspec": {
   "display_name": "Python 3",
   "language": "python",
   "name": "python3"
  },
  "language_info": {
   "codemirror_mode": {
    "name": "ipython",
    "version": 3
   },
   "file_extension": ".py",
   "mimetype": "text/x-python",
   "name": "python",
   "nbconvert_exporter": "python",
   "pygments_lexer": "ipython3",
   "version": "3.7.6"
  }
 },
 "nbformat": 4,
 "nbformat_minor": 2
}
